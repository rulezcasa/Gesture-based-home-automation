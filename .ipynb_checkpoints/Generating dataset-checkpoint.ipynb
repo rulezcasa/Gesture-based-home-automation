{
 "cells": [
  {
   "cell_type": "markdown",
   "id": "47c94b4a",
   "metadata": {},
   "source": [
    "## Importing libraries "
   ]
  },
  {
   "cell_type": "code",
   "execution_count": null,
   "id": "eadc2fdd",
   "metadata": {},
   "outputs": [],
   "source": [
    "import sys\n",
    "import os\n",
    "import cv2\n",
    "import numpy as np\n",
    "from PIL import Image\n",
    "from tqdm import tqdm_notebook as tqdm"
   ]
  },
  {
   "cell_type": "markdown",
   "id": "918b3404",
   "metadata": {},
   "source": [
    "## Checking and making directory "
   ]
  },
  {
   "cell_type": "code",
   "execution_count": null,
   "id": "b46bdd23",
   "metadata": {},
   "outputs": [],
   "source": [
    "directory = input(\"Enter directory name: \")\n",
    "os.makedirs(directory, exist_ok=True)"
   ]
  },
  {
   "cell_type": "code",
   "execution_count": null,
   "id": "9897f24a",
   "metadata": {},
   "outputs": [],
   "source": [
    "video = cv2.VideoCapture(0)\n",
    "filename = len(os.listdir(directory))\n",
    "count = 0\n",
    "pbar = tqdm(total = imagecount+1)\n",
    "while True and count < imagecount:\n",
    "    filename += 1\n",
    "    count += 1\n",
    "    _, frame = video.read()\n",
    "    kernel = np.ones((3,3),np.uint8) \n",
    "    hsv = cv2.cvtColor(frame, cv2.COLOR_BGR2HSV)\n",
    "# define range of skin color in HSV\n",
    "    lower_skin = np.array([0,20,70], dtype=np.uint8)\n",
    "    upper_skin = np.array([20,255,255], dtype=np.uint8)\n",
    "#extract skin colur image\n",
    "    mask = cv2.inRange(hsv, lower_skin, upper_skin)\n",
    "#extrapolate the hand to fill dark spots within\n",
    "    mask = cv2.dilate(mask,kernel,iterations = 4)\n",
    "#blur the image\n",
    "    mask = cv2.GaussianBlur(mask,(5,5),100)\n",
    "    path = directory+\"//\"+str(filename)+\".jpg\"\n",
    "    cv2.imwrite(path, mask)\n",
    "    cv2.imshow(\"Capturing\", mask)\n",
    "    key=cv2.waitKey(1)\n",
    "    if key == ord('q'):\n",
    "        break\n",
    "pbar.update(1)\n",
    "pbar.close()\n",
    "video.release()\n",
    "cv2.destroyAllWindows()"
   ]
  },
  {
   "cell_type": "markdown",
   "id": "3e371fa9",
   "metadata": {},
   "source": [
    "## Initializing video capture  "
   ]
  },
  {
   "cell_type": "code",
   "execution_count": null,
   "id": "8b0f18db",
   "metadata": {},
   "outputs": [],
   "source": [
    "video = cv2.VideoCapture(0)\n",
    "filename = len(os.listdir(directory))\n",
    "count = 0\n",
    "pbar = tqdm(total = 5)\n",
    "while True and count < 5:\n",
    "    filename += 1\n",
    "    count += 1\n",
    "    \n",
    "    # Read frame from video stream\n",
    "    _, frame = video.read()\n",
    "    \n",
    "    # Save the raw frame as an image\n",
    "    path = os.path.join(directory, str(filename) + \".jpg\")\n",
    "    cv2.imwrite(path, frame)\n",
    "    \n",
    "    # Display the captured image (optional)\n",
    "    cv2.imshow(\"Capturing\", frame)\n",
    "    \n",
    "    # Wait for a key press\n",
    "    key = cv2.waitKey(1)\n",
    "    \n",
    "    # Exit loop if 'q' key is pressed\n",
    "    if key == ord('q'):\n",
    "        break\n",
    "    \n",
    "    # Update progress bar\n",
    "    pbar.update(1)\n",
    "\n",
    "# Close progress bar\n",
    "pbar.close()\n",
    "\n",
    "# Release video capture\n",
    "video.release()\n",
    "\n",
    "# Close OpenCV windows\n",
    "cv2.destroyAllWindows()"
   ]
  }
 ],
 "metadata": {
  "kernelspec": {
   "display_name": "Python 3 (ipykernel)",
   "language": "python",
   "name": "python3"
  },
  "language_info": {
   "codemirror_mode": {
    "name": "ipython",
    "version": 3
   },
   "file_extension": ".py",
   "mimetype": "text/x-python",
   "name": "python",
   "nbconvert_exporter": "python",
   "pygments_lexer": "ipython3",
   "version": "3.11.5"
  }
 },
 "nbformat": 4,
 "nbformat_minor": 5
}
